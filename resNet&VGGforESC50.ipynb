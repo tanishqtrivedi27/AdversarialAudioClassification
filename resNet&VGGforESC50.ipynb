{
  "nbformat": 4,
  "nbformat_minor": 0,
  "metadata": {
    "colab": {
      "provenance": [],
      "gpuType": "T4",
      "authorship_tag": "ABX9TyPs5EmbnmlxPxSG2O18AXZy",
      "include_colab_link": true
    },
    "kernelspec": {
      "name": "python3",
      "display_name": "Python 3"
    },
    "language_info": {
      "name": "python"
    },
    "accelerator": "GPU"
  },
  "cells": [
    {
      "cell_type": "markdown",
      "metadata": {
        "id": "view-in-github",
        "colab_type": "text"
      },
      "source": [
        "<a href=\"https://colab.research.google.com/github/tanishqtrivedi27/AdversarialAudioClassification/blob/main/resNet%26VGGforESC50.ipynb\" target=\"_parent\"><img src=\"https://colab.research.google.com/assets/colab-badge.svg\" alt=\"Open In Colab\"/></a>"
      ]
    },
    {
      "cell_type": "markdown",
      "source": [
        "**Dataset Loader**"
      ],
      "metadata": {
        "id": "TA7_SNg7zjui"
      }
    },
    {
      "cell_type": "code",
      "source": [
        "from torch.utils.data import Dataset\n",
        "import torch\n",
        "import torchaudio\n",
        "import pandas as pd\n",
        "import numpy as np\n",
        "import matplotlib.pyplot as plt\n",
        "import os\n",
        "\n",
        "class ESCDataset(Dataset):\n",
        "    def __init__(self, annotations_file, audio_dir, transformation, device):\n",
        "        self.device = device\n",
        "        self.transformation = transformation\n",
        "        self.annotations = pd.read_csv(annotations_file)\n",
        "        self.audio_dir = audio_dir\n",
        "\n",
        "        self.c2i={}\n",
        "        self.i2c={}\n",
        "        self.categories = sorted(self.annotations['category'].unique())\n",
        "        for i, category in enumerate(self.categories):\n",
        "            self.c2i[category]=i\n",
        "            self.i2c[i]=category\n",
        "\n",
        "    def __len__(self):\n",
        "        return len(self.annotations)\n",
        "\n",
        "    def __getitem__(self, index):\n",
        "        audio_sample_path = self._get_audio_sample_path(index)\n",
        "        label = self._get_audio_sample_label(index)\n",
        "        signal, _ = torchaudio.load(audio_sample_path)\n",
        "        signal = signal.to(self.device)\n",
        "\n",
        "        self.transformation.to(device)\n",
        "\n",
        "        mel_spectrogram = self.transformation(signal)\n",
        "\n",
        "        # [1, 128, 431] -> [1, 128, 432]\n",
        "        # Pad one additional frequency bin to the last dimension\n",
        "        mel_spectrogram = torch.nn.functional.pad(mel_spectrogram, (0, 1))\n",
        "\n",
        "        mel_spectrogram_db = torchaudio.transforms.AmplitudeToDB()(mel_spectrogram)\n",
        "        mel_spectrogram_db = torch.clamp((mel_spectrogram_db - mel_spectrogram_db.min()) / (mel_spectrogram_db.max() - mel_spectrogram_db.min()), 0, 1) * 255\n",
        "\n",
        "        return mel_spectrogram_db, label\n",
        "\n",
        "\n",
        "    def _get_audio_sample_path(self, index):\n",
        "        filename = self.annotations.iloc[index, 0]\n",
        "        path = os.path.join(self.audio_dir, filename)\n",
        "        return path\n",
        "\n",
        "    def _get_audio_sample_label(self, index):\n",
        "        return self.c2i[self.annotations.iloc[index, 3]]\n",
        "\n",
        "    def plot_waveform(self, index):\n",
        "        audio_sample_path = self._get_audio_sample_path(index)\n",
        "        waveform, sample_rate = torchaudio.load(audio_sample_path)\n",
        "        waveform = waveform.numpy()\n",
        "\n",
        "        num_channels, num_frames = waveform.shape\n",
        "        time_axis = torch.arange(0, num_frames) / sample_rate\n",
        "\n",
        "        plt.plot(time_axis, waveform[0], linewidth=1)\n",
        "        plt.xlabel('Time')\n",
        "        plt.ylabel('Amplitude')\n",
        "        plt.grid(True)\n",
        "        plt.title(\"Waveform\")\n",
        "        plt.show()\n",
        "\n",
        "    def plot_mel_spectrogram(self, index):\n",
        "        audio_sample_path = self._get_audio_sample_path(index)\n",
        "        waveform, sample_rate = torchaudio.load(audio_sample_path)\n",
        "\n",
        "        mel_transform = T.MelSpectrogram(sample_rate=sample_rate, n_fft=2048, hop_length=512)\n",
        "        mel_spectrogram = mel_transform(waveform)\n",
        "        mel_spectrogram_db = torchaudio.transforms.AmplitudeToDB()(mel_spectrogram)\n",
        "        mel_spectrogram_db = torch.clamp((mel_spectrogram_db - mel_spectrogram_db.min()) / (mel_spectrogram_db.max() - mel_spectrogram_db.min()), 0, 1) * 255\n",
        "\n",
        "        plt.imshow(mel_spectrogram_db[0].numpy(), cmap='viridis', aspect='auto', origin='lower')\n",
        "        plt.xlabel('Time')\n",
        "        plt.ylabel('Mel Frequency')\n",
        "        plt.title('Mel Spectrogram')\n",
        "        plt.colorbar(format='%+2.0f dB')\n",
        "        plt.show()"
      ],
      "metadata": {
        "id": "AnK4QeZqcafS"
      },
      "execution_count": null,
      "outputs": []
    },
    {
      "cell_type": "code",
      "source": [
        "import torchaudio.transforms as T\n",
        "from google.colab import drive\n",
        "\n",
        "drive.mount('/content/drive')\n",
        "ANNOTATIONS_FILE = \"/content/drive/MyDrive/data/ESC-50-master/ESC-50-master/meta/esc-50.csv\"\n",
        "AUDIO_DIR = \"/content/drive/MyDrive/data/ESC-50-master/ESC-50-master/audio\"\n",
        "\n",
        "SAMPLE_RATE=44100\n",
        "\n",
        "device = \"cuda\" if torch.cuda.is_available() else \"cpu\"\n",
        "print(f'Using device: {device}')\n",
        "\n",
        "mel_transform = T.MelSpectrogram(sample_rate=SAMPLE_RATE, n_fft=2048, hop_length=512)\n",
        "\n",
        "esc = ESCDataset(ANNOTATIONS_FILE, AUDIO_DIR, mel_transform, device)\n",
        "\n",
        "print(f\"Total number of samples present in dataset: {len(esc)}\")"
      ],
      "metadata": {
        "colab": {
          "base_uri": "https://localhost:8080/"
        },
        "id": "YWPidpBDdBKM",
        "outputId": "16366eed-9893-45fa-9bc1-f567ca25d94c"
      },
      "execution_count": null,
      "outputs": [
        {
          "output_type": "stream",
          "name": "stdout",
          "text": [
            "Mounted at /content/drive\n",
            "Using device: cuda\n",
            "Total number of samples present in dataset: 400\n"
          ]
        }
      ]
    },
    {
      "cell_type": "markdown",
      "source": [
        "**Function to train the model and calculate metrics**"
      ],
      "metadata": {
        "id": "H0gduSpYWcuc"
      }
    },
    {
      "cell_type": "code",
      "source": [
        "from torch.optim.lr_scheduler import StepLR\n",
        "from torch.utils.data import DataLoader\n",
        "import torch.optim as optim\n",
        "import torch.nn as nn\n",
        "import torch.nn.functional as F\n",
        "from sklearn.metrics import precision_recall_fscore_support, confusion_matrix, accuracy_score\n",
        "from sklearn.manifold import TSNE\n",
        "import seaborn as sns\n",
        "\n",
        "# function to train the model\n",
        "def train_model(model, dataset, learning_rate=2e-4, num_epochs=10, batch_size=128, stepSize=10, gamma=0.1):\n",
        "    optimizer = optim.Adam(model.parameters(), lr=learning_rate)\n",
        "    loss_fn = nn.CrossEntropyLoss()\n",
        "    scheduler = StepLR(optimizer, step_size=stepSize, gamma=gamma)\n",
        "\n",
        "    data_loader = DataLoader(dataset, batch_size=batch_size, shuffle=True)\n",
        "\n",
        "    for epoch in range(num_epochs):\n",
        "        print(f\"Epoch {epoch + 1}/{num_epochs}\")\n",
        "        model.train()\n",
        "        for batch_input, batch_target in data_loader:\n",
        "            batch_input, batch_target = batch_input.to(device), batch_target.to(device)\n",
        "            predictions = model(batch_input)\n",
        "            loss = loss_fn(predictions, batch_target)\n",
        "            optimizer.zero_grad()\n",
        "            loss.backward()\n",
        "            optimizer.step()\n",
        "\n",
        "        print(f\"  Training Loss: {loss.item()}\")\n",
        "\n",
        "    print(\"Training finished.\")\n",
        "\n",
        "\n",
        "# function to calculate metrics\n",
        "def calculate_metrics(model, data_loader, device):\n",
        "    model.eval()\n",
        "    all_predictions = []\n",
        "    all_targets = []\n",
        "\n",
        "    with torch.no_grad():\n",
        "        for batch_input, batch_target in data_loader:\n",
        "            batch_input, batch_target = batch_input.to(device), batch_target.to(device)\n",
        "            predictions = model(batch_input)\n",
        "            all_predictions.extend(predictions.argmax(dim=1).cpu().numpy())\n",
        "            all_targets.extend(batch_target.cpu().numpy())\n",
        "\n",
        "    precision, recall, f1, _ = precision_recall_fscore_support(all_targets, all_predictions, average='weighted')\n",
        "    accuracy = accuracy_score(all_targets, all_predictions)\n",
        "    print(f\"Accuracy: {accuracy * 100:.2f}%\")\n",
        "    print(f\"Precision: {precision:.4f}\")\n",
        "    print(f\"Recall: {recall:.4f}\")\n",
        "    print(f\"F1 Score: {f1:.4f}\")\n",
        "\n",
        "    cm = confusion_matrix(all_targets, all_predictions)\n",
        "    # Plot the confusion matrix using Seaborn\n",
        "    sns.heatmap(cm, annot=True)\n",
        "    plt.title(\"Confusion Matrix\")\n",
        "    plt.xlabel(\"Predicted Label\")\n",
        "    plt.ylabel(\"True Label\")\n",
        "    plt.show()"
      ],
      "metadata": {
        "id": "KepPiK1ihNaH"
      },
      "execution_count": null,
      "outputs": []
    },
    {
      "cell_type": "markdown",
      "source": [
        "**Resnet18 Model**"
      ],
      "metadata": {
        "id": "jG88hNBskc0_"
      }
    },
    {
      "cell_type": "code",
      "source": [
        "from torchvision.models import resnet18\n",
        "\n",
        "resnet_model = resnet18(weights='DEFAULT')\n",
        "resnet_model.fc = nn.Linear(512,10)\n",
        "resnet_model.conv1 = nn.Conv2d(1, 64, kernel_size=(7, 7), stride=(2, 2), padding=(3, 3), bias=False)\n",
        "resnet_model = resnet_model.to(device)"
      ],
      "metadata": {
        "id": "FhFNcRq4zgON"
      },
      "execution_count": null,
      "outputs": []
    },
    {
      "cell_type": "code",
      "source": [
        "train_model(resnet_model, esc, learning_rate=2e-4, num_epochs=10, batch_size=128)\n",
        "\n",
        "data_loader = DataLoader(esc, batch_size=128, shuffle=True)\n",
        "calculate_metrics(resnet_model, data_loader, device)"
      ],
      "metadata": {
        "colab": {
          "base_uri": "https://localhost:8080/",
          "height": 925
        },
        "id": "z2Lt3pa4kb7z",
        "outputId": "f9e66894-50eb-43ca-c4e3-86ae46cff147"
      },
      "execution_count": null,
      "outputs": [
        {
          "output_type": "stream",
          "name": "stdout",
          "text": [
            "Epoch 1/10\n",
            "  Training Loss: 0.900921106338501\n",
            "Epoch 2/10\n",
            "  Training Loss: 0.505273163318634\n",
            "Epoch 3/10\n",
            "  Training Loss: 0.5966532826423645\n",
            "Epoch 4/10\n",
            "  Training Loss: 0.4500117003917694\n",
            "Epoch 5/10\n",
            "  Training Loss: 0.20579278469085693\n",
            "Epoch 6/10\n",
            "  Training Loss: 0.3308820128440857\n",
            "Epoch 7/10\n",
            "  Training Loss: 0.23391114175319672\n",
            "Epoch 8/10\n",
            "  Training Loss: 0.12456196546554565\n",
            "Epoch 9/10\n",
            "  Training Loss: 0.10757098346948624\n",
            "Epoch 10/10\n",
            "  Training Loss: 0.09611792117357254\n",
            "Training finished.\n",
            "Accuracy: 95.75%\n",
            "Precision: 0.9634\n",
            "Recall: 0.9575\n",
            "F1 Score: 0.9565\n"
          ]
        },
        {
          "output_type": "display_data",
          "data": {
            "text/plain": [
              "<Figure size 640x480 with 2 Axes>"
            ],
            "image/png": "[encoded data removed]"
          },
          "metadata": {}
        }
      ]
    },
    {
      "cell_type": "markdown",
      "source": [
        "**Resnet34 model**"
      ],
      "metadata": {
        "id": "Xh7x1dXiY5ll"
      }
    },
    {
      "cell_type": "code",
      "source": [
        "from torchvision.models import resnet34\n",
        "\n",
        "resnet34_model = resnet34(weights='DEFAULT')\n",
        "resnet34_model.fc = nn.Linear(512,10)\n",
        "resnet34_model.conv1 = nn.Conv2d(1, 64, kernel_size=(7, 7), stride=(2, 2), padding=(3, 3), bias=False)\n",
        "resnet34_model = resnet34_model.to(device)"
      ],
      "metadata": {
        "id": "3FOtEQi5euC0",
        "colab": {
          "base_uri": "https://localhost:8080/"
        },
        "outputId": "fbd1401b-77c5-408b-ac16-db289c982e9f"
      },
      "execution_count": null,
      "outputs": [
        {
          "output_type": "stream",
          "name": "stderr",
          "text": [
            "Downloading: \"https://download.pytorch.org/models/resnet34-b627a593.pth\" to /root/.cache/torch/hub/checkpoints/resnet34-b627a593.pth\n",
            "100%|██████████| 83.3M/83.3M [00:00<00:00, 167MB/s]\n"
          ]
        }
      ]
    },
    {
      "cell_type": "code",
      "source": [
        "train_model(resnet34_model, esc, learning_rate=2e-4, num_epochs=10, batch_size=128)\n",
        "\n",
        "data_loader = DataLoader(esc, batch_size=128, shuffle=True)\n",
        "calculate_metrics(resnet34_model, data_loader, device)"
      ],
      "metadata": {
        "colab": {
          "base_uri": "https://localhost:8080/",
          "height": 925
        },
        "id": "XsumtA-zY0qs",
        "outputId": "89be7e4a-c660-4011-99de-534a082678b6"
      },
      "execution_count": null,
      "outputs": [
        {
          "output_type": "stream",
          "name": "stdout",
          "text": [
            "Epoch 1/10\n",
            "  Training Loss: 0.7738224267959595\n",
            "Epoch 2/10\n",
            "  Training Loss: 1.257484793663025\n",
            "Epoch 3/10\n",
            "  Training Loss: 0.31742265820503235\n",
            "Epoch 4/10\n",
            "  Training Loss: 0.23765304684638977\n",
            "Epoch 5/10\n",
            "  Training Loss: 0.2928570806980133\n",
            "Epoch 6/10\n",
            "  Training Loss: 0.4679581820964813\n",
            "Epoch 7/10\n",
            "  Training Loss: 0.2672562897205353\n",
            "Epoch 8/10\n",
            "  Training Loss: 0.06260122358798981\n",
            "Epoch 9/10\n",
            "  Training Loss: 0.1274866759777069\n",
            "Epoch 10/10\n",
            "  Training Loss: 0.06534604728221893\n",
            "Training finished.\n",
            "Accuracy: 97.00%\n",
            "Precision: 0.9730\n",
            "Recall: 0.9700\n",
            "F1 Score: 0.9698\n"
          ]
        },
        {
          "output_type": "display_data",
          "data": {
            "text/plain": [
              "<Figure size 640x480 with 2 Axes>"
            ],
            "image/png": "[encoded data removed]"
          },
          "metadata": {}
        }
      ]
    },
    {
      "cell_type": "markdown",
      "source": [
        "**VGG16**"
      ],
      "metadata": {
        "id": "g5UhfOEuxkFt"
      }
    },
    {
      "cell_type": "code",
      "source": [
        "from torchvision.models import vgg16\n",
        "import torch.nn as nn\n",
        "\n",
        "vgg_model = vgg16(weights='IMAGENET1K_V1')\n",
        "vgg_model.features[0] = nn.Conv2d(1, 64, kernel_size=(3, 3), stride=(1, 1), padding=(1, 1))\n",
        "vgg_model.classifier[6] = nn.Linear(4096, 10)\n",
        "vgg_model.to(device)"
      ],
      "metadata": {
        "colab": {
          "base_uri": "https://localhost:8080/"
        },
        "id": "hEAfq9_nY-sg",
        "outputId": "81227182-e2e4-40c2-ab57-348cc7e2cfb9"
      },
      "execution_count": null,
      "outputs": [
        {
          "output_type": "stream",
          "name": "stderr",
          "text": [
            "Downloading: \"https://download.pytorch.org/models/vgg16-397923af.pth\" to /root/.cache/torch/hub/checkpoints/vgg16-397923af.pth\n",
            "100%|██████████| 528M/528M [00:06<00:00, 83.1MB/s]\n"
          ]
        },
        {
          "output_type": "execute_result",
          "data": {
            "text/plain": [
              "VGG(\n",
              "  (features): Sequential(\n",
              "    (0): Conv2d(1, 64, kernel_size=(3, 3), stride=(1, 1), padding=(1, 1))\n",
              "    (1): ReLU(inplace=True)\n",
              "    (2): Conv2d(64, 64, kernel_size=(3, 3), stride=(1, 1), padding=(1, 1))\n",
              "    (3): ReLU(inplace=True)\n",
              "    (4): MaxPool2d(kernel_size=2, stride=2, padding=0, dilation=1, ceil_mode=False)\n",
              "    (5): Conv2d(64, 128, kernel_size=(3, 3), stride=(1, 1), padding=(1, 1))\n",
              "    (6): ReLU(inplace=True)\n",
              "    (7): Conv2d(128, 128, kernel_size=(3, 3), stride=(1, 1), padding=(1, 1))\n",
              "    (8): ReLU(inplace=True)\n",
              "    (9): MaxPool2d(kernel_size=2, stride=2, padding=0, dilation=1, ceil_mode=False)\n",
              "    (10): Conv2d(128, 256, kernel_size=(3, 3), stride=(1, 1), padding=(1, 1))\n",
              "    (11): ReLU(inplace=True)\n",
              "    (12): Conv2d(256, 256, kernel_size=(3, 3), stride=(1, 1), padding=(1, 1))\n",
              "    (13): ReLU(inplace=True)\n",
              "    (14): Conv2d(256, 256, kernel_size=(3, 3), stride=(1, 1), padding=(1, 1))\n",
              "    (15): ReLU(inplace=True)\n",
              "    (16): MaxPool2d(kernel_size=2, stride=2, padding=0, dilation=1, ceil_mode=False)\n",
              "    (17): Conv2d(256, 512, kernel_size=(3, 3), stride=(1, 1), padding=(1, 1))\n",
              "    (18): ReLU(inplace=True)\n",
              "    (19): Conv2d(512, 512, kernel_size=(3, 3), stride=(1, 1), padding=(1, 1))\n",
              "    (20): ReLU(inplace=True)\n",
              "    (21): Conv2d(512, 512, kernel_size=(3, 3), stride=(1, 1), padding=(1, 1))\n",
              "    (22): ReLU(inplace=True)\n",
              "    (23): MaxPool2d(kernel_size=2, stride=2, padding=0, dilation=1, ceil_mode=False)\n",
              "    (24): Conv2d(512, 512, kernel_size=(3, 3), stride=(1, 1), padding=(1, 1))\n",
              "    (25): ReLU(inplace=True)\n",
              "    (26): Conv2d(512, 512, kernel_size=(3, 3), stride=(1, 1), padding=(1, 1))\n",
              "    (27): ReLU(inplace=True)\n",
              "    (28): Conv2d(512, 512, kernel_size=(3, 3), stride=(1, 1), padding=(1, 1))\n",
              "    (29): ReLU(inplace=True)\n",
              "    (30): MaxPool2d(kernel_size=2, stride=2, padding=0, dilation=1, ceil_mode=False)\n",
              "  )\n",
              "  (avgpool): AdaptiveAvgPool2d(output_size=(7, 7))\n",
              "  (classifier): Sequential(\n",
              "    (0): Linear(in_features=25088, out_features=4096, bias=True)\n",
              "    (1): ReLU(inplace=True)\n",
              "    (2): Dropout(p=0.5, inplace=False)\n",
              "    (3): Linear(in_features=4096, out_features=4096, bias=True)\n",
              "    (4): ReLU(inplace=True)\n",
              "    (5): Dropout(p=0.5, inplace=False)\n",
              "    (6): Linear(in_features=4096, out_features=10, bias=True)\n",
              "  )\n",
              ")"
            ]
          },
          "metadata": {},
          "execution_count": 7
        }
      ]
    },
    {
      "cell_type": "code",
      "source": [
        "train_model(vgg_model, esc, learning_rate=2e-4, num_epochs=40, batch_size=64)\n",
        "\n",
        "data_loader = DataLoader(esc, batch_size=128, shuffle=True)\n",
        "calculate_metrics(vgg_model, data_loader, device)"
      ],
      "metadata": {
        "colab": {
          "base_uri": "https://localhost:8080/",
          "height": 1000
        },
        "id": "VCj7dr-bknGd",
        "outputId": "f20fb327-a50c-4deb-e40f-d530ba82c359"
      },
      "execution_count": null,
      "outputs": [
        {
          "output_type": "stream",
          "name": "stdout",
          "text": [
            "Epoch 1/40\n",
            "  Training Loss: 1.2546489238739014\n",
            "Epoch 2/40\n",
            "  Training Loss: 1.7232775688171387\n",
            "Epoch 3/40\n",
            "  Training Loss: 1.0369952917099\n",
            "Epoch 4/40\n",
            "  Training Loss: 0.8534731864929199\n",
            "Epoch 5/40\n",
            "  Training Loss: 0.6944787502288818\n",
            "Epoch 6/40\n",
            "  Training Loss: 0.9754260182380676\n",
            "Epoch 7/40\n",
            "  Training Loss: 0.483503520488739\n",
            "Epoch 8/40\n",
            "  Training Loss: 0.9357717633247375\n",
            "Epoch 9/40\n",
            "  Training Loss: 0.6596745252609253\n",
            "Epoch 10/40\n",
            "  Training Loss: 3.733992338180542\n",
            "Epoch 11/40\n",
            "  Training Loss: 1.0603396892547607\n",
            "Epoch 12/40\n",
            "  Training Loss: 1.0769680738449097\n",
            "Epoch 13/40\n",
            "  Training Loss: 1.0538970232009888\n",
            "Epoch 14/40\n",
            "  Training Loss: 0.8098939061164856\n",
            "Epoch 15/40\n",
            "  Training Loss: 0.5945940017700195\n",
            "Epoch 16/40\n",
            "  Training Loss: 0.5864242911338806\n",
            "Epoch 17/40\n",
            "  Training Loss: 0.3877473771572113\n",
            "Epoch 18/40\n",
            "  Training Loss: 0.46900781989097595\n",
            "Epoch 19/40\n",
            "  Training Loss: 0.8285076022148132\n",
            "Epoch 20/40\n",
            "  Training Loss: 0.3868846297264099\n",
            "Epoch 21/40\n",
            "  Training Loss: 0.5787956118583679\n",
            "Epoch 22/40\n",
            "  Training Loss: 0.8537168502807617\n",
            "Epoch 23/40\n",
            "  Training Loss: 0.7974556684494019\n",
            "Epoch 24/40\n",
            "  Training Loss: 0.4142743945121765\n",
            "Epoch 25/40\n",
            "  Training Loss: 0.7485782504081726\n",
            "Epoch 26/40\n",
            "  Training Loss: 0.24707119166851044\n",
            "Epoch 27/40\n",
            "  Training Loss: 0.34922823309898376\n",
            "Epoch 28/40\n",
            "  Training Loss: 0.16708797216415405\n",
            "Epoch 29/40\n",
            "  Training Loss: 0.2736692726612091\n",
            "Epoch 30/40\n",
            "  Training Loss: 0.6602332592010498\n",
            "Epoch 31/40\n",
            "  Training Loss: 0.29299241304397583\n",
            "Epoch 32/40\n",
            "  Training Loss: 0.8815060257911682\n",
            "Epoch 33/40\n",
            "  Training Loss: 0.647043764591217\n",
            "Epoch 34/40\n",
            "  Training Loss: 0.34069696068763733\n",
            "Epoch 35/40\n",
            "  Training Loss: 0.15431958436965942\n",
            "Epoch 36/40\n",
            "  Training Loss: 0.0907030701637268\n",
            "Epoch 37/40\n",
            "  Training Loss: 0.24176006019115448\n",
            "Epoch 38/40\n",
            "  Training Loss: 0.2379428744316101\n",
            "Epoch 39/40\n",
            "  Training Loss: 0.3049657940864563\n",
            "Epoch 40/40\n",
            "  Training Loss: 0.01849471963942051\n",
            "Training finished.\n",
            "Accuracy: 96.50%\n",
            "Precision: 0.9663\n",
            "Recall: 0.9650\n",
            "F1 Score: 0.9650\n"
          ]
        },
        {
          "output_type": "display_data",
          "data": {
            "text/plain": [
              "<Figure size 640x480 with 2 Axes>"
            ],
            "image/png": "[encoded data removed]"
          },
          "metadata": {}
        }
      ]
    },
    {
      "cell_type": "markdown",
      "source": [
        "**Audio MLP Mixer**"
      ],
      "metadata": {
        "id": "KUo6lzDd-gjn"
      }
    },
    {
      "cell_type": "code",
      "source": [
        "import locale\n",
        "locale.getpreferredencoding = lambda: \"UTF-8\"\n",
        "\n",
        "!pip install mlp-mixer-pytorch"
      ],
      "metadata": {
        "colab": {
          "base_uri": "https://localhost:8080/"
        },
        "id": "ML_kNQne7Tjh",
        "outputId": "17ac628b-6359-4889-ae9c-e1c8c6beab31"
      },
      "execution_count": null,
      "outputs": [
        {
          "output_type": "stream",
          "name": "stdout",
          "text": [
            "Requirement already satisfied: mlp-mixer-pytorch in /usr/local/lib/python3.10/dist-packages (0.1.1)\n",
            "Requirement already satisfied: einops>=0.3 in /usr/local/lib/python3.10/dist-packages (from mlp-mixer-pytorch) (0.7.0)\n",
            "Requirement already satisfied: torch>=1.6 in /usr/local/lib/python3.10/dist-packages (from mlp-mixer-pytorch) (2.1.0+cu118)\n",
            "Requirement already satisfied: filelock in /usr/local/lib/python3.10/dist-packages (from torch>=1.6->mlp-mixer-pytorch) (3.13.1)\n",
            "Requirement already satisfied: typing-extensions in /usr/local/lib/python3.10/dist-packages (from torch>=1.6->mlp-mixer-pytorch) (4.5.0)\n",
            "Requirement already satisfied: sympy in /usr/local/lib/python3.10/dist-packages (from torch>=1.6->mlp-mixer-pytorch) (1.12)\n",
            "Requirement already satisfied: networkx in /usr/local/lib/python3.10/dist-packages (from torch>=1.6->mlp-mixer-pytorch) (3.2.1)\n",
            "Requirement already satisfied: jinja2 in /usr/local/lib/python3.10/dist-packages (from torch>=1.6->mlp-mixer-pytorch) (3.1.2)\n",
            "Requirement already satisfied: fsspec in /usr/local/lib/python3.10/dist-packages (from torch>=1.6->mlp-mixer-pytorch) (2023.6.0)\n",
            "Requirement already satisfied: triton==2.1.0 in /usr/local/lib/python3.10/dist-packages (from torch>=1.6->mlp-mixer-pytorch) (2.1.0)\n",
            "Requirement already satisfied: MarkupSafe>=2.0 in /usr/local/lib/python3.10/dist-packages (from jinja2->torch>=1.6->mlp-mixer-pytorch) (2.1.3)\n",
            "Requirement already satisfied: mpmath>=0.19 in /usr/local/lib/python3.10/dist-packages (from sympy->torch>=1.6->mlp-mixer-pytorch) (1.3.0)\n"
          ]
        }
      ]
    },
    {
      "cell_type": "code",
      "source": [
        "from mlp_mixer_pytorch import MLPMixer\n",
        "\n",
        "mlpmodel = MLPMixer(\n",
        "    image_size = (128, 432),\n",
        "    channels = 1,\n",
        "    patch_size = 16,\n",
        "    dim = 512,\n",
        "    depth = 12,\n",
        "    num_classes = 10\n",
        ")\n",
        "\n",
        "mlpmodel.to(device)"
      ],
      "metadata": {
        "colab": {
          "base_uri": "https://localhost:8080/"
        },
        "id": "vBwofZIj9_JS",
        "outputId": "d6b8f80a-b4eb-4c18-d22a-1bcbaade1ec0"
      },
      "execution_count": null,
      "outputs": [
        {
          "output_type": "execute_result",
          "data": {
            "text/plain": [
              "Sequential(\n",
              "  (0): Rearrange('b c (h p1) (w p2) -> b (h w) (p1 p2 c)', p1=16, p2=16)\n",
              "  (1): Linear(in_features=256, out_features=512, bias=True)\n",
              "  (2): Sequential(\n",
              "    (0): PreNormResidual(\n",
              "      (fn): Sequential(\n",
              "        (0): Conv1d(216, 864, kernel_size=(1,), stride=(1,))\n",
              "        (1): GELU(approximate='none')\n",
              "        (2): Dropout(p=0.0, inplace=False)\n",
              "        (3): Conv1d(864, 216, kernel_size=(1,), stride=(1,))\n",
              "        (4): Dropout(p=0.0, inplace=False)\n",
              "      )\n",
              "      (norm): LayerNorm((512,), eps=1e-05, elementwise_affine=True)\n",
              "    )\n",
              "    (1): PreNormResidual(\n",
              "      (fn): Sequential(\n",
              "        (0): Linear(in_features=512, out_features=256, bias=True)\n",
              "        (1): GELU(approximate='none')\n",
              "        (2): Dropout(p=0.0, inplace=False)\n",
              "        (3): Linear(in_features=256, out_features=512, bias=True)\n",
              "        (4): Dropout(p=0.0, inplace=False)\n",
              "      )\n",
              "      (norm): LayerNorm((512,), eps=1e-05, elementwise_affine=True)\n",
              "    )\n",
              "  )\n",
              "  (3): Sequential(\n",
              "    (0): PreNormResidual(\n",
              "      (fn): Sequential(\n",
              "        (0): Conv1d(216, 864, kernel_size=(1,), stride=(1,))\n",
              "        (1): GELU(approximate='none')\n",
              "        (2): Dropout(p=0.0, inplace=False)\n",
              "        (3): Conv1d(864, 216, kernel_size=(1,), stride=(1,))\n",
              "        (4): Dropout(p=0.0, inplace=False)\n",
              "      )\n",
              "      (norm): LayerNorm((512,), eps=1e-05, elementwise_affine=True)\n",
              "    )\n",
              "    (1): PreNormResidual(\n",
              "      (fn): Sequential(\n",
              "        (0): Linear(in_features=512, out_features=256, bias=True)\n",
              "        (1): GELU(approximate='none')\n",
              "        (2): Dropout(p=0.0, inplace=False)\n",
              "        (3): Linear(in_features=256, out_features=512, bias=True)\n",
              "        (4): Dropout(p=0.0, inplace=False)\n",
              "      )\n",
              "      (norm): LayerNorm((512,), eps=1e-05, elementwise_affine=True)\n",
              "    )\n",
              "  )\n",
              "  (4): Sequential(\n",
              "    (0): PreNormResidual(\n",
              "      (fn): Sequential(\n",
              "        (0): Conv1d(216, 864, kernel_size=(1,), stride=(1,))\n",
              "        (1): GELU(approximate='none')\n",
              "        (2): Dropout(p=0.0, inplace=False)\n",
              "        (3): Conv1d(864, 216, kernel_size=(1,), stride=(1,))\n",
              "        (4): Dropout(p=0.0, inplace=False)\n",
              "      )\n",
              "      (norm): LayerNorm((512,), eps=1e-05, elementwise_affine=True)\n",
              "    )\n",
              "    (1): PreNormResidual(\n",
              "      (fn): Sequential(\n",
              "        (0): Linear(in_features=512, out_features=256, bias=True)\n",
              "        (1): GELU(approximate='none')\n",
              "        (2): Dropout(p=0.0, inplace=False)\n",
              "        (3): Linear(in_features=256, out_features=512, bias=True)\n",
              "        (4): Dropout(p=0.0, inplace=False)\n",
              "      )\n",
              "      (norm): LayerNorm((512,), eps=1e-05, elementwise_affine=True)\n",
              "    )\n",
              "  )\n",
              "  (5): Sequential(\n",
              "    (0): PreNormResidual(\n",
              "      (fn): Sequential(\n",
              "        (0): Conv1d(216, 864, kernel_size=(1,), stride=(1,))\n",
              "        (1): GELU(approximate='none')\n",
              "        (2): Dropout(p=0.0, inplace=False)\n",
              "        (3): Conv1d(864, 216, kernel_size=(1,), stride=(1,))\n",
              "        (4): Dropout(p=0.0, inplace=False)\n",
              "      )\n",
              "      (norm): LayerNorm((512,), eps=1e-05, elementwise_affine=True)\n",
              "    )\n",
              "    (1): PreNormResidual(\n",
              "      (fn): Sequential(\n",
              "        (0): Linear(in_features=512, out_features=256, bias=True)\n",
              "        (1): GELU(approximate='none')\n",
              "        (2): Dropout(p=0.0, inplace=False)\n",
              "        (3): Linear(in_features=256, out_features=512, bias=True)\n",
              "        (4): Dropout(p=0.0, inplace=False)\n",
              "      )\n",
              "      (norm): LayerNorm((512,), eps=1e-05, elementwise_affine=True)\n",
              "    )\n",
              "  )\n",
              "  (6): Sequential(\n",
              "    (0): PreNormResidual(\n",
              "      (fn): Sequential(\n",
              "        (0): Conv1d(216, 864, kernel_size=(1,), stride=(1,))\n",
              "        (1): GELU(approximate='none')\n",
              "        (2): Dropout(p=0.0, inplace=False)\n",
              "        (3): Conv1d(864, 216, kernel_size=(1,), stride=(1,))\n",
              "        (4): Dropout(p=0.0, inplace=False)\n",
              "      )\n",
              "      (norm): LayerNorm((512,), eps=1e-05, elementwise_affine=True)\n",
              "    )\n",
              "    (1): PreNormResidual(\n",
              "      (fn): Sequential(\n",
              "        (0): Linear(in_features=512, out_features=256, bias=True)\n",
              "        (1): GELU(approximate='none')\n",
              "        (2): Dropout(p=0.0, inplace=False)\n",
              "        (3): Linear(in_features=256, out_features=512, bias=True)\n",
              "        (4): Dropout(p=0.0, inplace=False)\n",
              "      )\n",
              "      (norm): LayerNorm((512,), eps=1e-05, elementwise_affine=True)\n",
              "    )\n",
              "  )\n",
              "  (7): Sequential(\n",
              "    (0): PreNormResidual(\n",
              "      (fn): Sequential(\n",
              "        (0): Conv1d(216, 864, kernel_size=(1,), stride=(1,))\n",
              "        (1): GELU(approximate='none')\n",
              "        (2): Dropout(p=0.0, inplace=False)\n",
              "        (3): Conv1d(864, 216, kernel_size=(1,), stride=(1,))\n",
              "        (4): Dropout(p=0.0, inplace=False)\n",
              "      )\n",
              "      (norm): LayerNorm((512,), eps=1e-05, elementwise_affine=True)\n",
              "    )\n",
              "    (1): PreNormResidual(\n",
              "      (fn): Sequential(\n",
              "        (0): Linear(in_features=512, out_features=256, bias=True)\n",
              "        (1): GELU(approximate='none')\n",
              "        (2): Dropout(p=0.0, inplace=False)\n",
              "        (3): Linear(in_features=256, out_features=512, bias=True)\n",
              "        (4): Dropout(p=0.0, inplace=False)\n",
              "      )\n",
              "      (norm): LayerNorm((512,), eps=1e-05, elementwise_affine=True)\n",
              "    )\n",
              "  )\n",
              "  (8): Sequential(\n",
              "    (0): PreNormResidual(\n",
              "      (fn): Sequential(\n",
              "        (0): Conv1d(216, 864, kernel_size=(1,), stride=(1,))\n",
              "        (1): GELU(approximate='none')\n",
              "        (2): Dropout(p=0.0, inplace=False)\n",
              "        (3): Conv1d(864, 216, kernel_size=(1,), stride=(1,))\n",
              "        (4): Dropout(p=0.0, inplace=False)\n",
              "      )\n",
              "      (norm): LayerNorm((512,), eps=1e-05, elementwise_affine=True)\n",
              "    )\n",
              "    (1): PreNormResidual(\n",
              "      (fn): Sequential(\n",
              "        (0): Linear(in_features=512, out_features=256, bias=True)\n",
              "        (1): GELU(approximate='none')\n",
              "        (2): Dropout(p=0.0, inplace=False)\n",
              "        (3): Linear(in_features=256, out_features=512, bias=True)\n",
              "        (4): Dropout(p=0.0, inplace=False)\n",
              "      )\n",
              "      (norm): LayerNorm((512,), eps=1e-05, elementwise_affine=True)\n",
              "    )\n",
              "  )\n",
              "  (9): Sequential(\n",
              "    (0): PreNormResidual(\n",
              "      (fn): Sequential(\n",
              "        (0): Conv1d(216, 864, kernel_size=(1,), stride=(1,))\n",
              "        (1): GELU(approximate='none')\n",
              "        (2): Dropout(p=0.0, inplace=False)\n",
              "        (3): Conv1d(864, 216, kernel_size=(1,), stride=(1,))\n",
              "        (4): Dropout(p=0.0, inplace=False)\n",
              "      )\n",
              "      (norm): LayerNorm((512,), eps=1e-05, elementwise_affine=True)\n",
              "    )\n",
              "    (1): PreNormResidual(\n",
              "      (fn): Sequential(\n",
              "        (0): Linear(in_features=512, out_features=256, bias=True)\n",
              "        (1): GELU(approximate='none')\n",
              "        (2): Dropout(p=0.0, inplace=False)\n",
              "        (3): Linear(in_features=256, out_features=512, bias=True)\n",
              "        (4): Dropout(p=0.0, inplace=False)\n",
              "      )\n",
              "      (norm): LayerNorm((512,), eps=1e-05, elementwise_affine=True)\n",
              "    )\n",
              "  )\n",
              "  (10): Sequential(\n",
              "    (0): PreNormResidual(\n",
              "      (fn): Sequential(\n",
              "        (0): Conv1d(216, 864, kernel_size=(1,), stride=(1,))\n",
              "        (1): GELU(approximate='none')\n",
              "        (2): Dropout(p=0.0, inplace=False)\n",
              "        (3): Conv1d(864, 216, kernel_size=(1,), stride=(1,))\n",
              "        (4): Dropout(p=0.0, inplace=False)\n",
              "      )\n",
              "      (norm): LayerNorm((512,), eps=1e-05, elementwise_affine=True)\n",
              "    )\n",
              "    (1): PreNormResidual(\n",
              "      (fn): Sequential(\n",
              "        (0): Linear(in_features=512, out_features=256, bias=True)\n",
              "        (1): GELU(approximate='none')\n",
              "        (2): Dropout(p=0.0, inplace=False)\n",
              "        (3): Linear(in_features=256, out_features=512, bias=True)\n",
              "        (4): Dropout(p=0.0, inplace=False)\n",
              "      )\n",
              "      (norm): LayerNorm((512,), eps=1e-05, elementwise_affine=True)\n",
              "    )\n",
              "  )\n",
              "  (11): Sequential(\n",
              "    (0): PreNormResidual(\n",
              "      (fn): Sequential(\n",
              "        (0): Conv1d(216, 864, kernel_size=(1,), stride=(1,))\n",
              "        (1): GELU(approximate='none')\n",
              "        (2): Dropout(p=0.0, inplace=False)\n",
              "        (3): Conv1d(864, 216, kernel_size=(1,), stride=(1,))\n",
              "        (4): Dropout(p=0.0, inplace=False)\n",
              "      )\n",
              "      (norm): LayerNorm((512,), eps=1e-05, elementwise_affine=True)\n",
              "    )\n",
              "    (1): PreNormResidual(\n",
              "      (fn): Sequential(\n",
              "        (0): Linear(in_features=512, out_features=256, bias=True)\n",
              "        (1): GELU(approximate='none')\n",
              "        (2): Dropout(p=0.0, inplace=False)\n",
              "        (3): Linear(in_features=256, out_features=512, bias=True)\n",
              "        (4): Dropout(p=0.0, inplace=False)\n",
              "      )\n",
              "      (norm): LayerNorm((512,), eps=1e-05, elementwise_affine=True)\n",
              "    )\n",
              "  )\n",
              "  (12): Sequential(\n",
              "    (0): PreNormResidual(\n",
              "      (fn): Sequential(\n",
              "        (0): Conv1d(216, 864, kernel_size=(1,), stride=(1,))\n",
              "        (1): GELU(approximate='none')\n",
              "        (2): Dropout(p=0.0, inplace=False)\n",
              "        (3): Conv1d(864, 216, kernel_size=(1,), stride=(1,))\n",
              "        (4): Dropout(p=0.0, inplace=False)\n",
              "      )\n",
              "      (norm): LayerNorm((512,), eps=1e-05, elementwise_affine=True)\n",
              "    )\n",
              "    (1): PreNormResidual(\n",
              "      (fn): Sequential(\n",
              "        (0): Linear(in_features=512, out_features=256, bias=True)\n",
              "        (1): GELU(approximate='none')\n",
              "        (2): Dropout(p=0.0, inplace=False)\n",
              "        (3): Linear(in_features=256, out_features=512, bias=True)\n",
              "        (4): Dropout(p=0.0, inplace=False)\n",
              "      )\n",
              "      (norm): LayerNorm((512,), eps=1e-05, elementwise_affine=True)\n",
              "    )\n",
              "  )\n",
              "  (13): Sequential(\n",
              "    (0): PreNormResidual(\n",
              "      (fn): Sequential(\n",
              "        (0): Conv1d(216, 864, kernel_size=(1,), stride=(1,))\n",
              "        (1): GELU(approximate='none')\n",
              "        (2): Dropout(p=0.0, inplace=False)\n",
              "        (3): Conv1d(864, 216, kernel_size=(1,), stride=(1,))\n",
              "        (4): Dropout(p=0.0, inplace=False)\n",
              "      )\n",
              "      (norm): LayerNorm((512,), eps=1e-05, elementwise_affine=True)\n",
              "    )\n",
              "    (1): PreNormResidual(\n",
              "      (fn): Sequential(\n",
              "        (0): Linear(in_features=512, out_features=256, bias=True)\n",
              "        (1): GELU(approximate='none')\n",
              "        (2): Dropout(p=0.0, inplace=False)\n",
              "        (3): Linear(in_features=256, out_features=512, bias=True)\n",
              "        (4): Dropout(p=0.0, inplace=False)\n",
              "      )\n",
              "      (norm): LayerNorm((512,), eps=1e-05, elementwise_affine=True)\n",
              "    )\n",
              "  )\n",
              "  (14): LayerNorm((512,), eps=1e-05, elementwise_affine=True)\n",
              "  (15): Reduce('b n c -> b c', 'mean')\n",
              "  (16): Linear(in_features=512, out_features=10, bias=True)\n",
              ")"
            ]
          },
          "metadata": {},
          "execution_count": 8
        }
      ]
    },
    {
      "cell_type": "code",
      "source": [
        "train_model(mlpmodel, esc, learning_rate=2e-4, num_epochs=40, batch_size=64)\n",
        "\n",
        "data_loader = DataLoader(esc, batch_size=128, shuffle=True)\n",
        "calculate_metrics(mlpmodel, data_loader, device)"
      ],
      "metadata": {
        "colab": {
          "base_uri": "https://localhost:8080/",
          "height": 1000
        },
        "id": "wJ6PSJw7-VeS",
        "outputId": "cf6df19f-062d-4799-e017-8c5d53977177"
      },
      "execution_count": null,
      "outputs": [
        {
          "output_type": "stream",
          "name": "stdout",
          "text": [
            "Epoch 1/40\n",
            "  Training Loss: 0.6915531158447266\n",
            "Epoch 2/40\n",
            "  Training Loss: 1.3352892398834229\n",
            "Epoch 3/40\n",
            "  Training Loss: 1.303797721862793\n",
            "Epoch 4/40\n",
            "  Training Loss: 1.5152392387390137\n",
            "Epoch 5/40\n",
            "  Training Loss: 1.2170770168304443\n",
            "Epoch 6/40\n",
            "  Training Loss: 1.2502491474151611\n",
            "Epoch 7/40\n",
            "  Training Loss: 1.0358673334121704\n",
            "Epoch 8/40\n",
            "  Training Loss: 0.8690328001976013\n",
            "Epoch 9/40\n",
            "  Training Loss: 1.061218023300171\n",
            "Epoch 10/40\n",
            "  Training Loss: 1.453303337097168\n",
            "Epoch 11/40\n",
            "  Training Loss: 0.8158233761787415\n",
            "Epoch 12/40\n",
            "  Training Loss: 0.7445403933525085\n",
            "Epoch 13/40\n",
            "  Training Loss: 1.0552706718444824\n",
            "Epoch 14/40\n",
            "  Training Loss: 0.8082330822944641\n",
            "Epoch 15/40\n",
            "  Training Loss: 0.8631454110145569\n",
            "Epoch 16/40\n",
            "  Training Loss: 0.7406578660011292\n",
            "Epoch 17/40\n",
            "  Training Loss: 0.8633581399917603\n",
            "Epoch 18/40\n",
            "  Training Loss: 0.5923246741294861\n",
            "Epoch 19/40\n",
            "  Training Loss: 0.9103550910949707\n",
            "Epoch 20/40\n",
            "  Training Loss: 0.6993634700775146\n",
            "Epoch 21/40\n",
            "  Training Loss: 0.7002750635147095\n",
            "Epoch 22/40\n",
            "  Training Loss: 0.6775468587875366\n",
            "Epoch 23/40\n",
            "  Training Loss: 0.9063830971717834\n",
            "Epoch 24/40\n",
            "  Training Loss: 0.25261446833610535\n",
            "Epoch 25/40\n",
            "  Training Loss: 0.7346569299697876\n",
            "Epoch 26/40\n",
            "  Training Loss: 0.5727002620697021\n",
            "Epoch 27/40\n",
            "  Training Loss: 0.7598707675933838\n",
            "Epoch 28/40\n",
            "  Training Loss: 0.5781744122505188\n",
            "Epoch 29/40\n",
            "  Training Loss: 0.4785717725753784\n",
            "Epoch 30/40\n",
            "  Training Loss: 0.3681242763996124\n",
            "Epoch 31/40\n",
            "  Training Loss: 0.4200340807437897\n",
            "Epoch 32/40\n",
            "  Training Loss: 0.39737316966056824\n",
            "Epoch 33/40\n",
            "  Training Loss: 0.4857466220855713\n",
            "Epoch 34/40\n",
            "  Training Loss: 0.6436206698417664\n",
            "Epoch 35/40\n",
            "  Training Loss: 0.22966836392879486\n",
            "Epoch 36/40\n",
            "  Training Loss: 0.20740140974521637\n",
            "Epoch 37/40\n",
            "  Training Loss: 0.2881813049316406\n",
            "Epoch 38/40\n",
            "  Training Loss: 0.3354906141757965\n",
            "Epoch 39/40\n",
            "  Training Loss: 0.30393362045288086\n",
            "Epoch 40/40\n",
            "  Training Loss: 0.2784365713596344\n",
            "Training finished.\n",
            "Accuracy: 92.75%\n",
            "Precision: 0.9302\n",
            "Recall: 0.9275\n",
            "F1 Score: 0.9277\n"
          ]
        },
        {
          "output_type": "display_data",
          "data": {
            "text/plain": [
              "<Figure size 640x480 with 2 Axes>"
            ],
            "image/png": "[encoded data removed]"
          },
          "metadata": {}
        }
      ]
    },
    {
      "cell_type": "code",
      "source": [
        "!pip install torchattacks"
      ],
      "metadata": {
        "colab": {
          "base_uri": "https://localhost:8080/"
        },
        "id": "hKmepSWiqSxz",
        "outputId": "37816e12-d20b-4bd2-f972-ad349c50e998"
      },
      "execution_count": null,
      "outputs": [
        {
          "output_type": "stream",
          "name": "stdout",
          "text": [
            "Collecting torchattacks\n",
            "  Downloading torchattacks-3.5.1-py3-none-any.whl (142 kB)\n",
            "\u001b[2K     \u001b[90m━━━━━━━━━━━━━━━━━━━━━━━━━━━━━━━━━━━━━━━━\u001b[0m \u001b[32m142.0/142.0 kB\u001b[0m \u001b[31m1.5 MB/s\u001b[0m eta \u001b[36m0:00:00\u001b[0m\n",
            "\u001b[?25hRequirement already satisfied: torch>=1.7.1 in /usr/local/lib/python3.10/dist-packages (from torchattacks) (2.1.0+cu121)\n",
            "Requirement already satisfied: torchvision>=0.8.2 in /usr/local/lib/python3.10/dist-packages (from torchattacks) (0.16.0+cu121)\n",
            "Requirement already satisfied: scipy>=0.14.0 in /usr/local/lib/python3.10/dist-packages (from torchattacks) (1.11.4)\n",
            "Requirement already satisfied: tqdm>=4.56.1 in /usr/local/lib/python3.10/dist-packages (from torchattacks) (4.66.1)\n",
            "Collecting requests~=2.25.1 (from torchattacks)\n",
            "  Downloading requests-2.25.1-py2.py3-none-any.whl (61 kB)\n",
            "\u001b[2K     \u001b[90m━━━━━━━━━━━━━━━━━━━━━━━━━━━━━━━━━━━━━━━━\u001b[0m \u001b[32m61.2/61.2 kB\u001b[0m \u001b[31m5.8 MB/s\u001b[0m eta \u001b[36m0:00:00\u001b[0m\n",
            "\u001b[?25hRequirement already satisfied: numpy>=1.19.4 in /usr/local/lib/python3.10/dist-packages (from torchattacks) (1.23.5)\n",
            "Collecting chardet<5,>=3.0.2 (from requests~=2.25.1->torchattacks)\n",
            "  Downloading chardet-4.0.0-py2.py3-none-any.whl (178 kB)\n",
            "\u001b[2K     \u001b[90m━━━━━━━━━━━━━━━━━━━━━━━━━━━━━━━━━━━━━━━━\u001b[0m \u001b[32m178.7/178.7 kB\u001b[0m \u001b[31m5.4 MB/s\u001b[0m eta \u001b[36m0:00:00\u001b[0m\n",
            "\u001b[?25hCollecting idna<3,>=2.5 (from requests~=2.25.1->torchattacks)\n",
            "  Downloading idna-2.10-py2.py3-none-any.whl (58 kB)\n",
            "\u001b[2K     \u001b[90m━━━━━━━━━━━━━━━━━━━━━━━━━━━━━━━━━━━━━━━━\u001b[0m \u001b[32m58.8/58.8 kB\u001b[0m \u001b[31m5.0 MB/s\u001b[0m eta \u001b[36m0:00:00\u001b[0m\n",
            "\u001b[?25hCollecting urllib3<1.27,>=1.21.1 (from requests~=2.25.1->torchattacks)\n",
            "  Downloading urllib3-1.26.18-py2.py3-none-any.whl (143 kB)\n",
            "\u001b[2K     \u001b[90m━━━━━━━━━━━━━━━━━━━━━━━━━━━━━━━━━━━━━━━━\u001b[0m \u001b[32m143.8/143.8 kB\u001b[0m \u001b[31m10.5 MB/s\u001b[0m eta \u001b[36m0:00:00\u001b[0m\n",
            "\u001b[?25hRequirement already satisfied: certifi>=2017.4.17 in /usr/local/lib/python3.10/dist-packages (from requests~=2.25.1->torchattacks) (2023.11.17)\n",
            "Requirement already satisfied: filelock in /usr/local/lib/python3.10/dist-packages (from torch>=1.7.1->torchattacks) (3.13.1)\n",
            "Requirement already satisfied: typing-extensions in /usr/local/lib/python3.10/dist-packages (from torch>=1.7.1->torchattacks) (4.5.0)\n",
            "Requirement already satisfied: sympy in /usr/local/lib/python3.10/dist-packages (from torch>=1.7.1->torchattacks) (1.12)\n",
            "Requirement already satisfied: networkx in /usr/local/lib/python3.10/dist-packages (from torch>=1.7.1->torchattacks) (3.2.1)\n",
            "Requirement already satisfied: jinja2 in /usr/local/lib/python3.10/dist-packages (from torch>=1.7.1->torchattacks) (3.1.3)\n",
            "Requirement already satisfied: fsspec in /usr/local/lib/python3.10/dist-packages (from torch>=1.7.1->torchattacks) (2023.6.0)\n",
            "Requirement already satisfied: triton==2.1.0 in /usr/local/lib/python3.10/dist-packages (from torch>=1.7.1->torchattacks) (2.1.0)\n",
            "Requirement already satisfied: pillow!=8.3.*,>=5.3.0 in /usr/local/lib/python3.10/dist-packages (from torchvision>=0.8.2->torchattacks) (9.4.0)\n",
            "Requirement already satisfied: MarkupSafe>=2.0 in /usr/local/lib/python3.10/dist-packages (from jinja2->torch>=1.7.1->torchattacks) (2.1.3)\n",
            "Requirement already satisfied: mpmath>=0.19 in /usr/local/lib/python3.10/dist-packages (from sympy->torch>=1.7.1->torchattacks) (1.3.0)\n",
            "Installing collected packages: urllib3, idna, chardet, requests, torchattacks\n",
            "  Attempting uninstall: urllib3\n",
            "    Found existing installation: urllib3 2.0.7\n",
            "    Uninstalling urllib3-2.0.7:\n",
            "      Successfully uninstalled urllib3-2.0.7\n",
            "  Attempting uninstall: idna\n",
            "    Found existing installation: idna 3.6\n",
            "    Uninstalling idna-3.6:\n",
            "      Successfully uninstalled idna-3.6\n",
            "  Attempting uninstall: chardet\n",
            "    Found existing installation: chardet 5.2.0\n",
            "    Uninstalling chardet-5.2.0:\n",
            "      Successfully uninstalled chardet-5.2.0\n",
            "  Attempting uninstall: requests\n",
            "    Found existing installation: requests 2.31.0\n",
            "    Uninstalling requests-2.31.0:\n",
            "      Successfully uninstalled requests-2.31.0\n",
            "\u001b[31mERROR: pip's dependency resolver does not currently take into account all the packages that are installed. This behaviour is the source of the following dependency conflicts.\n",
            "bigframes 0.19.0 requires requests>=2.27.1, but you have requests 2.25.1 which is incompatible.\n",
            "google-colab 1.0.0 requires requests==2.31.0, but you have requests 2.25.1 which is incompatible.\n",
            "tweepy 4.14.0 requires requests<3,>=2.27.0, but you have requests 2.25.1 which is incompatible.\n",
            "yfinance 0.2.35 requires requests>=2.31, but you have requests 2.25.1 which is incompatible.\u001b[0m\u001b[31m\n",
            "\u001b[0mSuccessfully installed chardet-4.0.0 idna-2.10 requests-2.25.1 torchattacks-3.5.1 urllib3-1.26.18\n"
          ]
        }
      ]
    }
  ]
}